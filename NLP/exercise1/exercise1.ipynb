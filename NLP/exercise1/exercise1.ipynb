{
 "cells": [
  {
   "cell_type": "markdown",
   "metadata": {},
   "source": [
    "Part A"
   ]
  },
  {
   "cell_type": "code",
   "execution_count": 2,
   "metadata": {
    "collapsed": true
   },
   "outputs": [],
   "source": [
    "import re\n",
    "\n",
    "# Exercise 1: function to match a regex against a string\n",
    "# returns: true if the whole string matches the pattern, false o/w\n",
    "def regexMatch(pattern, string):\n",
    "   matches = re.match(pattern, string)\n",
    "   return True if matches else False"
   ]
  },
  {
   "cell_type": "code",
   "execution_count": 35,
   "metadata": {
    "collapsed": false
   },
   "outputs": [
    {
     "name": "stdout",
     "output_type": "stream",
     "text": [
      "aaa:  True\n",
      "Aaa:  True\n",
      "aAa:  True\n",
      "123:  False\n",
      "a12:  False\n",
      "12a:  False\n",
      "Aa!:  False\n",
      "   :  False\n",
      "a a:  False\n"
     ]
    }
   ],
   "source": [
    "# 1a: Regex for all alphabetic strings\n",
    "pattern = \"^[a-zA-Z]+$\"\n",
    "\n",
    "print(\"aaa: \", regexMatch(pattern, \"aaa\"))\n",
    "print(\"Aaa: \", regexMatch(pattern, \"Aaa\"))\n",
    "print(\"aAa: \", regexMatch(pattern, \"aAa\"))\n",
    "print(\"123: \", regexMatch(pattern, \"123\"))\n",
    "print(\"a12: \", regexMatch(pattern, \"a12\"))\n",
    "print(\"12a: \", regexMatch(pattern, \"12a\"))\n",
    "print(\"Aa!: \", regexMatch(pattern, \"Aa!\"))\n",
    "print(\"   : \", regexMatch(pattern, \"   \"))\n",
    "print(\"a a: \", regexMatch(pattern, \"a a\"))"
   ]
  },
  {
   "cell_type": "code",
   "execution_count": 27,
   "metadata": {
    "collapsed": false
   },
   "outputs": [
    {
     "name": "stdout",
     "output_type": "stream",
     "text": [
      "s:     True\n",
      "abcs:  True\n",
      "aAas:  False\n",
      "aAAa:  False\n",
      "a12s:  False\n",
      "12as:  False\n",
      "Aa!s:  False\n",
      "s   :  False\n",
      "   s:  False\n"
     ]
    }
   ],
   "source": [
    "# 1b: Regex for all lowercase strings ending in s\n",
    "pattern = \"^[a-z]*s$\"\n",
    "\n",
    "print(\"s:    \", regexMatch(pattern, \"s\"))\n",
    "print(\"abcs: \", regexMatch(pattern, \"abcs\"))\n",
    "print(\"aAas: \", regexMatch(pattern, \"aAas\"))\n",
    "print(\"aAAa: \", regexMatch(pattern, \"aAAa\"))\n",
    "print(\"a12s: \", regexMatch(pattern, \"a12s\"))\n",
    "print(\"12as: \", regexMatch(pattern, \"12as\"))\n",
    "print(\"Aa!s: \", regexMatch(pattern, \"Aa!s\"))\n",
    "print(\"s   : \", regexMatch(pattern, \"s   \"))\n",
    "print(\"   s: \", regexMatch(pattern, \"   s\"))"
   ]
  },
  {
   "cell_type": "code",
   "execution_count": 13,
   "metadata": {
    "collapsed": false
   },
   "outputs": [
    {
     "name": "stdout",
     "output_type": "stream",
     "text": [
      "aa aa:       False\n",
      "11 345 aa:   False\n",
      "11 345! aa:  False\n",
      " 1 aa:       False\n",
      "123:         False\n",
      "3.14 aa:     False\n",
      "4G abc:      False\n",
      "42 4G:       False\n",
      "4G:          False\n"
     ]
    }
   ],
   "source": [
    "# 1c: Regex for all strings with two consecutive words being the same (case insensitive on the first letter)\n",
    "\n",
    "# NOTE: this is NOT a regular language, and thus this effect cannot be achieved by a regular expression on its own\n",
    "# We need a regex, for its back-referencing features. \n",
    "# The question, as it was clarified in the lecture, asks for the pattern to be case-insensitive for the first letter\n",
    "# only. This cannot be achieved in python, short of listing all possible first letters - python allows for the whole\n",
    "# word to be case sensitive or case insensitive, but not parts of it. \n",
    "# Thus the presented pattern will match case-insensitively: \"mirror mirror\", \"Mirror mirror\", and \"miRRor mirror\" \n",
    "# will all match. \n",
    "\n",
    "# To get case insensitive first letter only, use the following pattern:\n",
    "# \n",
    "# or in Perl: \"(/([A-Za-z])([A-Za-z]*) (?i)\\1(?-i)\\2/)\"\n",
    "\n",
    "pattern = \"([A-Za-z]+) \\1\"\n",
    "\n",
    "print(\"aa aa:      \", regexMatch(pattern, \"aaaa\"))\n",
    "print(\"11 345 aa:  \", regexMatch(pattern, \"11 345 aa\"))\n",
    "print(\"11 345! aa: \", regexMatch(pattern, \"11 345 aa\"))\n",
    "print(\" 1 aa:      \", regexMatch(pattern, \" 1 aa\"))\n",
    "print(\"123:        \", regexMatch(pattern, \"123\"))\n",
    "print(\"3.14 aa:    \", regexMatch(pattern, \"3.14 aa\"))\n",
    "print(\"4G abc:     \", regexMatch(pattern, \"4G abc\"))\n",
    "print(\"42 4G:      \", regexMatch(pattern, \"42 4G\"))\n",
    "print(\"4G:         \", regexMatch(pattern, \"4G\"))"
   ]
  },
  {
   "cell_type": "code",
   "execution_count": 11,
   "metadata": {
    "collapsed": false
   },
   "outputs": [
    {
     "name": "stdout",
     "output_type": "stream",
     "text": [
      "1 aaa:       True\n",
      "11 345 aa:   True\n",
      "11 345! aa:  True\n",
      " 1 aa:       False\n",
      "123:         False\n",
      "3.14 aa:     False\n",
      "4G abc:      False\n",
      "42 4G:       False\n",
      "4G:          False\n"
     ]
    }
   ],
   "source": [
    "# 1d: Regex for all strings that start at a new line with an integer and ends at the end of a line with a word\n",
    "\n",
    "# here we take \"line\" to be synonymous with \"string\" - i.e. not looking for new line characters\n",
    "\n",
    "pattern = \"^[0-9]+\\s(.*\\s)?[a-zA-Z]+$\"\n",
    "\n",
    "print(\"1 aaa:      \", regexMatch(pattern, \"1 aaa\"))\n",
    "print(\"11 345 aa:  \", regexMatch(pattern, \"11 345 aa\"))\n",
    "print(\"11 345! aa: \", regexMatch(pattern, \"11 345 aa\"))\n",
    "print(\" 1 aa:      \", regexMatch(pattern, \" 1 aa\"))\n",
    "print(\"123:        \", regexMatch(pattern, \"123\"))\n",
    "print(\"3.14 aa:    \", regexMatch(pattern, \"3.14 aa\"))\n",
    "print(\"4G abc:     \", regexMatch(pattern, \"4G abc\"))\n",
    "print(\"42 4G:      \", regexMatch(pattern, \"42 4G\"))\n",
    "print(\"4G:         \", regexMatch(pattern, \"4G\"))"
   ]
  },
  {
   "cell_type": "code",
   "execution_count": 12,
   "metadata": {
    "collapsed": false
   },
   "outputs": [
    {
     "name": "stdout",
     "output_type": "stream",
     "text": [
      "aaaa sbb like duck:  True\n",
      "likes duck:          True\n",
      "ducklike:            True\n",
      "23323duck243like:    True\n",
      "    duck:            False\n",
      "like:                False\n",
      "aasd asd 2342 @#$ :  False\n"
     ]
    }
   ],
   "source": [
    "# 1e: Regex for all strings that contain the words like and duck\n",
    "# here we also allow for 'like' and 'duck' to be substrings - e.g. 'likes duck' will match\n",
    "# if that is not intended, the pattern should be: \"((.*\\W)?like\\W(.*\\W)?duck\\W.*)|((.*\\W)?duck\\W(.*\\W)?like\\W.*)\"\n",
    "\n",
    "pattern = \"(.*like.*duck.*)|(.*duck.*like.*)\"\n",
    "\n",
    "print(\"aaaa sbb like duck: \", regexMatch(pattern, \"aaaa sbb like duck\"))\n",
    "print(\"likes duck:         \", regexMatch(pattern, \"likes duck\"))\n",
    "print(\"ducklike:           \", regexMatch(pattern, \"ducklike\"))\n",
    "print(\"23323duck243like:   \", regexMatch(pattern, \"23323duck243like\"))\n",
    "print(\"    duck:           \", regexMatch(pattern, \"    duck\"))\n",
    "print(\"like:               \", regexMatch(pattern, \"like\"))\n",
    "print(\"aasd asd 2342 @#$ : \", regexMatch(pattern, \"aasd asd 2342 @#$ \"))"
   ]
  },
  {
   "cell_type": "code",
   "execution_count": null,
   "metadata": {
    "collapsed": true
   },
   "outputs": [],
   "source": []
  }
 ],
 "metadata": {
  "anaconda-cloud": {},
  "kernelspec": {
   "display_name": "Python [default]",
   "language": "python",
   "name": "python3"
  },
  "language_info": {
   "codemirror_mode": {
    "name": "ipython",
    "version": 3
   },
   "file_extension": ".py",
   "mimetype": "text/x-python",
   "name": "python",
   "nbconvert_exporter": "python",
   "pygments_lexer": "ipython3",
   "version": "3.5.2"
  }
 },
 "nbformat": 4,
 "nbformat_minor": 1
}
