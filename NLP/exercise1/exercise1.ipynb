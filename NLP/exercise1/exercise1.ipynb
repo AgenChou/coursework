{
 "cells": [
  {
   "cell_type": "markdown",
   "metadata": {},
   "source": [
    "# Part A"
   ]
  },
  {
   "cell_type": "markdown",
   "metadata": {},
   "source": [
    "## 1."
   ]
  },
  {
   "cell_type": "code",
   "execution_count": 2,
   "metadata": {
    "collapsed": true
   },
   "outputs": [],
   "source": [
    "import re\n",
    "\n",
    "# Exercise 1: function to match a regex against a string\n",
    "# returns: true if the whole string matches the pattern, false o/w\n",
    "def regexMatch(pattern, string):\n",
    "   matches = re.match(pattern, string)\n",
    "   return True if matches else False"
   ]
  },
  {
   "cell_type": "markdown",
   "metadata": {},
   "source": [
    "### 1a."
   ]
  },
  {
   "cell_type": "code",
   "execution_count": 35,
   "metadata": {
    "collapsed": false
   },
   "outputs": [
    {
     "name": "stdout",
     "output_type": "stream",
     "text": [
      "aaa:  True\n",
      "Aaa:  True\n",
      "aAa:  True\n",
      "123:  False\n",
      "a12:  False\n",
      "12a:  False\n",
      "Aa!:  False\n",
      "   :  False\n",
      "a a:  False\n"
     ]
    }
   ],
   "source": [
    "# 1a: Regex for all alphabetic strings\n",
    "pattern = \"^[a-zA-Z]+$\"\n",
    "\n",
    "print(\"aaa: \", regexMatch(pattern, \"aaa\"))\n",
    "print(\"Aaa: \", regexMatch(pattern, \"Aaa\"))\n",
    "print(\"aAa: \", regexMatch(pattern, \"aAa\"))\n",
    "print(\"123: \", regexMatch(pattern, \"123\"))\n",
    "print(\"a12: \", regexMatch(pattern, \"a12\"))\n",
    "print(\"12a: \", regexMatch(pattern, \"12a\"))\n",
    "print(\"Aa!: \", regexMatch(pattern, \"Aa!\"))\n",
    "print(\"   : \", regexMatch(pattern, \"   \"))\n",
    "print(\"a a: \", regexMatch(pattern, \"a a\"))"
   ]
  },
  {
   "cell_type": "markdown",
   "metadata": {},
   "source": [
    "### 1b."
   ]
  },
  {
   "cell_type": "code",
   "execution_count": 27,
   "metadata": {
    "collapsed": false
   },
   "outputs": [
    {
     "name": "stdout",
     "output_type": "stream",
     "text": [
      "s:     True\n",
      "abcs:  True\n",
      "aAas:  False\n",
      "aAAa:  False\n",
      "a12s:  False\n",
      "12as:  False\n",
      "Aa!s:  False\n",
      "s   :  False\n",
      "   s:  False\n"
     ]
    }
   ],
   "source": [
    "# 1b: Regex for all lowercase strings ending in s\n",
    "pattern = \"^[a-z]*s$\"\n",
    "\n",
    "print(\"s:    \", regexMatch(pattern, \"s\"))\n",
    "print(\"abcs: \", regexMatch(pattern, \"abcs\"))\n",
    "print(\"aAas: \", regexMatch(pattern, \"aAas\"))\n",
    "print(\"aAAa: \", regexMatch(pattern, \"aAAa\"))\n",
    "print(\"a12s: \", regexMatch(pattern, \"a12s\"))\n",
    "print(\"12as: \", regexMatch(pattern, \"12as\"))\n",
    "print(\"Aa!s: \", regexMatch(pattern, \"Aa!s\"))\n",
    "print(\"s   : \", regexMatch(pattern, \"s   \"))\n",
    "print(\"   s: \", regexMatch(pattern, \"   s\"))"
   ]
  },
  {
   "cell_type": "markdown",
   "metadata": {},
   "source": [
    "### 1c."
   ]
  },
  {
   "cell_type": "code",
   "execution_count": 29,
   "metadata": {
    "collapsed": false
   },
   "outputs": [
    {
     "name": "stdout",
     "output_type": "stream",
     "text": [
      "aa aa:         True\n",
      "Aaa aaa:       True\n",
      "duck ducks:    False\n",
      "11 11:         False\n",
      "11 aa aa:      True\n",
      "the big bang:  False\n",
      "a aa aa a:     True\n",
      "duckduck:      False\n",
      "4G 4G:         False\n"
     ]
    }
   ],
   "source": [
    "# 1c: Regex for all strings with two consecutive words being the same (case insensitive on the first letter)\n",
    "\n",
    "# NOTE: this is not a regular language, and thus this effect cannot be achieved by a regular expression on its own\n",
    "# We need a regex, for its back-referencing features. \n",
    "# The question, as it was clarified in the lecture, asks for the pattern to be case-insensitive for the first letter\n",
    "# only. This cannot be achieved in python, short of listing all possible first letters - python allows for the whole\n",
    "# word to be case sensitive or case insensitive, but not parts of it. \n",
    "# Thus the presented pattern will match case-insensitively: \"mirror mirror\", \"Mirror mirror\", and \"miRRor mirror\" \n",
    "# will all match. \n",
    "\n",
    "# To get case insensitive first letter only, use the following pattern in Perl: \"(/([A-Za-z])([A-Za-z]*) (?i)\\1(?-i)\\2/)\"\n",
    "\n",
    "pattern = r\"(.*\\W?)(?i)([A-Za-z]+) \\2([^a-zA-Z]|$)\"\n",
    "\n",
    "print(\"aa aa:        \", regexMatch(pattern, \"aa aa\"))\n",
    "print(\"Aaa aaa:      \", regexMatch(pattern, \"Aaa aaa\"))\n",
    "print(\"duck ducks:   \", regexMatch(pattern, \"duck ducks\"))\n",
    "print(\"11 11:        \", regexMatch(pattern, \"11 11\"))\n",
    "print(\"11 aa aa:     \", regexMatch(pattern, \"11 aa aa\"))\n",
    "print(\"the big bang: \", regexMatch(pattern, \"the big bang\"))\n",
    "print(\"a aa aa a:    \", regexMatch(pattern, \"a aa aa a\"))\n",
    "print(\"duckduck:     \", regexMatch(pattern, \"duckduck\"))\n",
    "print(\"4G 4G:        \", regexMatch(pattern, \"4G 4G\"))"
   ]
  },
  {
   "cell_type": "markdown",
   "metadata": {},
   "source": [
    "### 1d."
   ]
  },
  {
   "cell_type": "code",
   "execution_count": 11,
   "metadata": {
    "collapsed": false
   },
   "outputs": [
    {
     "name": "stdout",
     "output_type": "stream",
     "text": [
      "1 aaa:       True\n",
      "11 345 aa:   True\n",
      "11 345! aa:  True\n",
      " 1 aa:       False\n",
      "123:         False\n",
      "3.14 aa:     False\n",
      "4G abc:      False\n",
      "42 4G:       False\n",
      "4G:          False\n"
     ]
    }
   ],
   "source": [
    "# 1d: Regex for all strings that start at a new line with an integer and ends at the end of a line with a word\n",
    "\n",
    "# here we take \"line\" to be synonymous with \"string\" - i.e. not looking for new line characters\n",
    "\n",
    "pattern = \"^[0-9]+\\s(.*\\s)?[a-zA-Z]+$\"\n",
    "\n",
    "print(\"1 aaa:      \", regexMatch(pattern, \"1 aaa\"))\n",
    "print(\"11 345 aa:  \", regexMatch(pattern, \"11 345 aa\"))\n",
    "print(\"11 345! aa: \", regexMatch(pattern, \"11 345 aa\"))\n",
    "print(\" 1 aa:      \", regexMatch(pattern, \" 1 aa\"))\n",
    "print(\"123:        \", regexMatch(pattern, \"123\"))\n",
    "print(\"3.14 aa:    \", regexMatch(pattern, \"3.14 aa\"))\n",
    "print(\"4G abc:     \", regexMatch(pattern, \"4G abc\"))\n",
    "print(\"42 4G:      \", regexMatch(pattern, \"42 4G\"))\n",
    "print(\"4G:         \", regexMatch(pattern, \"4G\"))"
   ]
  },
  {
   "cell_type": "markdown",
   "metadata": {},
   "source": [
    "### 1e."
   ]
  },
  {
   "cell_type": "code",
   "execution_count": 12,
   "metadata": {
    "collapsed": false
   },
   "outputs": [
    {
     "name": "stdout",
     "output_type": "stream",
     "text": [
      "aaaa sbb like duck:  True\n",
      "likes duck:          True\n",
      "ducklike:            True\n",
      "23323duck243like:    True\n",
      "    duck:            False\n",
      "like:                False\n",
      "aasd asd 2342 @#$ :  False\n"
     ]
    }
   ],
   "source": [
    "# 1e: Regex for all strings that contain the words like and duck\n",
    "# here we also allow for 'like' and 'duck' to be substrings - e.g. 'likes duck' will match\n",
    "# if that is not intended, the pattern should be: \"((.*\\W)?like\\W(.*\\W)?duck\\W.*)|((.*\\W)?duck\\W(.*\\W)?like\\W.*)\"\n",
    "\n",
    "pattern = \"(.*like.*duck.*)|(.*duck.*like.*)\"\n",
    "\n",
    "print(\"aaaa sbb like duck: \", regexMatch(pattern, \"aaaa sbb like duck\"))\n",
    "print(\"likes duck:         \", regexMatch(pattern, \"likes duck\"))\n",
    "print(\"ducklike:           \", regexMatch(pattern, \"ducklike\"))\n",
    "print(\"23323duck243like:   \", regexMatch(pattern, \"23323duck243like\"))\n",
    "print(\"    duck:           \", regexMatch(pattern, \"    duck\"))\n",
    "print(\"like:               \", regexMatch(pattern, \"like\"))\n",
    "print(\"aasd asd 2342 @#$ : \", regexMatch(pattern, \"aasd asd 2342 @#$ \"))"
   ]
  },
  {
   "cell_type": "markdown",
   "metadata": {},
   "source": [
    "### 1f."
   ]
  },
  {
   "cell_type": "code",
   "execution_count": null,
   "metadata": {
    "collapsed": true
   },
   "outputs": [],
   "source": [
    "# 1f: Pattern that matches the first word of all sentences in the complete works of Shakespeare\n",
    "\n",
    "# Here we take a sentence to begin with a capital letter, and end with one of: ',' '.' '?' !' '...' ':' ';', \n",
    "# which is then followed by a white space. This WILL capture character names in the plays"
   ]
  },
  {
   "cell_type": "markdown",
   "metadata": {},
   "source": [
    "## 2."
   ]
  },
  {
   "cell_type": "code",
   "execution_count": null,
   "metadata": {
    "collapsed": true
   },
   "outputs": [],
   "source": [
    "# First we design a regex to capture chemical formulae. \n",
    "# The strings will contain upper and lowe case letters, and symbols (, ), [, ], +, -, and potentially Greek letters."
   ]
  },
  {
   "cell_type": "markdown",
   "metadata": {},
   "source": [
    "# Part B"
   ]
  },
  {
   "cell_type": "markdown",
   "metadata": {},
   "source": [
    "## 3."
   ]
  },
  {
   "cell_type": "code",
   "execution_count": 65,
   "metadata": {
    "collapsed": false
   },
   "outputs": [
    {
     "name": "stdout",
     "output_type": "stream",
     "text": [
      "to verify the pen and paper exercise:\n",
      "'refa' to 'fear':     4\n",
      "'drive' to 'brief':   4\n",
      "'drive' to 'divers':  3\n"
     ]
    }
   ],
   "source": [
    "# Minimum edit distance algorithm (Wagner-Fischer). Note that this isn't a very efficient algorithm (it runs in\n",
    "# exponential time, and n^2 space).\n",
    "\n",
    "def minEditDistance(string1, string2):\n",
    "    # this will be a 2D array to store the distance. Think of it as n*m matrix, which we initially fill with 0s\n",
    "    array = [[0 for i in range(len(string1)+1)] for j in range(len(string2)+1)]; \n",
    "    # fill the top row of the matrix\n",
    "    for j in range(len(string1) + 1):\n",
    "        array[0][j] = j\n",
    "        \n",
    "    # fill the first column\n",
    "    for i in range(len(string2) + 1):\n",
    "        array[i][0] = i\n",
    "        \n",
    "    for i in range(1, len(string2) + 1):\n",
    "        for j in range(1, len(string1) + 1):\n",
    "            if string1[j-1] == string2[i-1]:\n",
    "                array[i][j] = array[i-1][j-1]\n",
    "            else:\n",
    "                array[i][j] = min (min ((array[i-1][j-1] + 2), (array[i][j-1] + 1)), (array[i-1][j] + 1))\n",
    "        \n",
    "    return array[len(string2)][len(string1)]\n",
    "    \n",
    "print(\"to verify the pen and paper exercise:\")\n",
    "print(\"'refa' to 'fear':    \", minEditDistance(\"refa\", \"fear\"))\n",
    "print(\"'drive' to 'brief':  \", minEditDistance(\"drive\", \"brief\"))\n",
    "print(\"'drive' to 'divers': \", minEditDistance(\"drive\", \"divers\"))\n",
    "\n",
    "\n"
   ]
  },
  {
   "cell_type": "markdown",
   "metadata": {},
   "source": [
    "## 4."
   ]
  },
  {
   "cell_type": "code",
   "execution_count": 95,
   "metadata": {
    "collapsed": false
   },
   "outputs": [
    {
     "name": "stdout",
     "output_type": "stream",
     "text": [
      "to verify the pen and paper exercise:\n",
      "\n",
      "r*efa*\n",
      "||||||\n",
      "*fe*ar\n",
      "'refa' to 'fear':     4\n",
      "\n",
      "d*rive*\n",
      "|||||||\n",
      "*bri*ef\n",
      "'drive' to 'brief':   4\n",
      "\n",
      "drive**\n",
      "|||||||\n",
      "d*ivers\n",
      "'drive' to 'divers':  3\n"
     ]
    }
   ],
   "source": [
    "# We ammend the above code to output the alignment, following the Needleman-Wunsch algorithm\n",
    "# https://en.wikipedia.org/wiki/Needleman%E2%80%93Wunsch_algorithm\n",
    "\n",
    "def editAlignment(string1, string2):\n",
    "    # this will be a 2D array to store the distance. Think of it as n*m matrix, which we initially fill with 0s\n",
    "    array = [[0 for i in range(len(string1)+1)] for j in range(len(string2)+1)]; \n",
    "    # this array records how we got to each stage\n",
    "    alignment = [[[0, 0] for i in range(len(string1)+1)] for j in range(len(string2)+1)];\n",
    "    \n",
    "    # fill the top row of the matrix\n",
    "    for j in range(len(string1) + 1):\n",
    "        array[0][j] = j\n",
    "        \n",
    "    # fill the first column\n",
    "    for i in range(len(string2) + 1):\n",
    "        array[i][0] = i\n",
    "        \n",
    "    for i in range(1, len(string2) + 1):\n",
    "        for j in range(1, len(string1) + 1):\n",
    "            if string1[j-1] == string2[i-1]:\n",
    "                array[i][j] = array[i-1][j-1]\n",
    "                alignment[i][j] = [i-1, j-1]\n",
    "            else:\n",
    "                step = min (min ((array[i-1][j-1] + 2), (array[i][j-1] + 1)), (array[i-1][j] + 1))\n",
    "                array[i][j] = step\n",
    "                if step == array[i-1][j-1] + 2:\n",
    "                    alignment[i][j] = [i-1, j-1]\n",
    "                elif step == array[i][j-1] + 1:\n",
    "                    alignment[i][j] = [i, j-1]\n",
    "                else:\n",
    "                    alignment[i][j] = [i-1,j]\n",
    "        \n",
    "    # Now we read off the path from the alignment array\n",
    "    backtrace = [[len(string2),len(string1)]]\n",
    "    while backtrace[0] != [0,0]:\n",
    "        backtrace.insert(0, alignment[backtrace[0][0]][backtrace[0][1]])\n",
    "        \n",
    "    # We convert it to three strings that we can then print to demonstrate alignment\n",
    "    top = \"\"\n",
    "    bot = \"\"\n",
    "    mid = \"\"\n",
    "    for i in range(1,len(backtrace)):\n",
    "        # if one of the indices is the same as in the previous step, we have only an insertion or deletion\n",
    "        if backtrace[i][0] == backtrace[i-1][0]:\n",
    "            top += string1[backtrace[i][1]-1]\n",
    "            mid += \"|\"\n",
    "            bot += \"*\"\n",
    "        elif backtrace[i][1] == backtrace[i-1][1]:\n",
    "            top += \"*\"\n",
    "            mid += \"|\"\n",
    "            bot += string2[backtrace[i][0]-1]\n",
    "        else:\n",
    "            # no operation, same letter in both strings\n",
    "            if string1[backtrace[i][1]-1] == string2[backtrace[i][0]-1]:\n",
    "                top += string1[backtrace[i][1]-1]\n",
    "                mid += \"|\"\n",
    "                bot += string2[backtrace[i][0]-1]\n",
    "            else:\n",
    "            # substitution, by personal preference displayed as insertion and deletion\n",
    "                top += string1[backtrace[i][1]-1]\n",
    "                mid += \"|\"\n",
    "                bot += \"*\"\n",
    "                top += \"*\"\n",
    "                mid += \"|\"\n",
    "                bot += string2[backtrace[i][0]-1]\n",
    "\n",
    "    print(\"\")\n",
    "    print(top)\n",
    "    print(mid)\n",
    "    print(bot)\n",
    "    return array[len(string2)][len(string1)]\n",
    "    \n",
    "print(\"to verify the pen and paper exercise:\")\n",
    "print(\"'refa' to 'fear':    \", editAlignment(\"refa\", \"fear\"))\n",
    "print(\"'drive' to 'brief':  \", editAlignment(\"drive\", \"brief\"))\n",
    "print(\"'drive' to 'divers': \", editAlignment(\"drive\", \"divers\"))\n"
   ]
  },
  {
   "cell_type": "code",
   "execution_count": null,
   "metadata": {
    "collapsed": true
   },
   "outputs": [],
   "source": []
  },
  {
   "cell_type": "code",
   "execution_count": null,
   "metadata": {
    "collapsed": true
   },
   "outputs": [],
   "source": []
  }
 ],
 "metadata": {
  "anaconda-cloud": {},
  "kernelspec": {
   "display_name": "Python [default]",
   "language": "python",
   "name": "python3"
  },
  "language_info": {
   "codemirror_mode": {
    "name": "ipython",
    "version": 3
   },
   "file_extension": ".py",
   "mimetype": "text/x-python",
   "name": "python",
   "nbconvert_exporter": "python",
   "pygments_lexer": "ipython3",
   "version": "3.5.2"
  }
 },
 "nbformat": 4,
 "nbformat_minor": 1
}
