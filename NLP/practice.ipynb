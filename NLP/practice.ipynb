{
 "cells": [
  {
   "cell_type": "markdown",
   "metadata": {},
   "source": [
    "#Afterhours Python Tutorial\n",
    "##Basics\n",
    "###Comments"
   ]
  },
  {
   "cell_type": "code",
   "execution_count": 8,
   "metadata": {
    "collapsed": true
   },
   "outputs": [],
   "source": [
    "# This is all in Python 2.7 to make it compatible with 3.3 definitely print should be used as a function"
   ]
  },
  {
   "cell_type": "code",
   "execution_count": 9,
   "metadata": {
    "collapsed": false
   },
   "outputs": [
    {
     "name": "stdout",
     "output_type": "stream",
     "text": [
      "Finished the comments\n"
     ]
    }
   ],
   "source": [
    "# single line comment\n",
    "'''\n",
    "Multiple\n",
    "Line\n",
    "Comment\n",
    "'''\n",
    "print(\"Finished the comments\")"
   ]
  },
  {
   "cell_type": "markdown",
   "metadata": {},
   "source": [
    "###Variables"
   ]
  },
  {
   "cell_type": "code",
   "execution_count": 1,
   "metadata": {
    "collapsed": false
   },
   "outputs": [
    {
     "name": "stdout",
     "output_type": "stream",
     "text": [
      "1\n",
      "4-3 is 1\n"
     ]
    }
   ],
   "source": [
    "# Python figures out variable type\n",
    "a=4\n",
    "b=3\n",
    "print(a-b)\n",
    "print(str(a)+ \"-\" + str(b)+ \" is \" + str(a-b))"
   ]
  },
  {
   "cell_type": "code",
   "execution_count": 35,
   "metadata": {
    "collapsed": false
   },
   "outputs": [
    {
     "name": "stdout",
     "output_type": "stream",
     "text": [
      "12\n"
     ]
    }
   ],
   "source": [
    "a=\"1\"\n",
    "b=\"2\"\n",
    "print(a+b)"
   ]
  },
  {
   "cell_type": "code",
   "execution_count": 36,
   "metadata": {
    "collapsed": false
   },
   "outputs": [
    {
     "name": "stdout",
     "output_type": "stream",
     "text": [
      "a+b=3\n"
     ]
    }
   ],
   "source": [
    "print(\"a+b=\"+ str(int(a)+ int(b)))"
   ]
  },
  {
   "cell_type": "code",
   "execution_count": 8,
   "metadata": {
    "collapsed": true
   },
   "outputs": [],
   "source": [
    "# int(): casts to integer\n",
    "# str(): casts to string\n",
    "# float(): casts to float\n",
    "# In interactive mode, the last printed expression is assigned to the variable _\n",
    "# Python also has built-in support for complex numbers, and uses the j or J suffix to indicate the imaginary part \n",
    "# (e.g. 3+5j)"
   ]
  },
  {
   "cell_type": "markdown",
   "metadata": {},
   "source": [
    "###Operators"
   ]
  },
  {
   "cell_type": "code",
   "execution_count": 38,
   "metadata": {
    "collapsed": false
   },
   "outputs": [
    {
     "name": "stdout",
     "output_type": "stream",
     "text": [
      "Add: 7\n",
      "Subtract: -1\n",
      "Multiply: 12\n",
      "Integer Division: 0\n",
      "Normal Division: 0.75\n",
      "Modulus: 3\n",
      "Exponent: 81\n",
      "Floor Division: 0.0\n"
     ]
    }
   ],
   "source": [
    "print(\"Add: \"+str(3+4))\n",
    "print(\"Subtract: \"+str(3-4))\n",
    "print(\"Multiply: \"+str(3*4))\n",
    "print(\"Integer Division: \"+str(3/4))\n",
    "print(\"Normal Division: \"+str(3.0/4.0))\n",
    "print(\"Modulus: \"+str(3%4))\n",
    "print(\"Exponent: \"+str(3**4))\n",
    "print(\"Floor Division: \"+str(3.0//4.0))"
   ]
  },
  {
   "cell_type": "markdown",
   "metadata": {},
   "source": [
    "###Assignment Operators"
   ]
  },
  {
   "cell_type": "code",
   "execution_count": 2,
   "metadata": {
    "collapsed": false
   },
   "outputs": [
    {
     "name": "stdout",
     "output_type": "stream",
     "text": [
      "2\n"
     ]
    }
   ],
   "source": [
    "a=0\n",
    "a+=2\n",
    "print(a)"
   ]
  },
  {
   "cell_type": "markdown",
   "metadata": {},
   "source": [
    "###If statement"
   ]
  },
  {
   "cell_type": "code",
   "execution_count": 3,
   "metadata": {
    "collapsed": false
   },
   "outputs": [
    {
     "name": "stdout",
     "output_type": "stream",
     "text": [
      "Please enter an integer: 19\n",
      "can vote\n"
     ]
    }
   ],
   "source": [
    "# Note that indentations must be exact\n",
    "#a=22\n",
    "a = int(raw_input(\"Please enter an integer: \"))\n",
    "if a>= 21:\n",
    "    print(\"in the if\")\n",
    "    print(\"can drink in US\")\n",
    "elif a>17:\n",
    "    print(\"can vote\")\n",
    "else:\n",
    "    print(\"still a child\")"
   ]
  },
  {
   "cell_type": "markdown",
   "metadata": {},
   "source": [
    "###Functions"
   ]
  },
  {
   "cell_type": "code",
   "execution_count": 41,
   "metadata": {
    "collapsed": false
   },
   "outputs": [
    {
     "name": "stdout",
     "output_type": "stream",
     "text": [
      "hello world\n"
     ]
    }
   ],
   "source": [
    "# Note that indentation is important\n",
    "def printhello():\n",
    "  print(\"hello world\")\n",
    "printhello()"
   ]
  },
  {
   "cell_type": "markdown",
   "metadata": {},
   "source": [
    "###Functions with arguments"
   ]
  },
  {
   "cell_type": "code",
   "execution_count": 4,
   "metadata": {
    "collapsed": false
   },
   "outputs": [
    {
     "name": "stdout",
     "output_type": "stream",
     "text": [
      "Please enter an integer: 21\n",
      "in the if\n",
      "can drink in US\n"
     ]
    }
   ],
   "source": [
    "# Note indentation is important\n",
    "def adult(a):\n",
    " if a>= 21:\n",
    "    print(\"in the if\")\n",
    "    print(\"can drink in US\")\n",
    " elif a>17:\n",
    "    print(\"can vote\")\n",
    " else:\n",
    "    print(\"still a child\")\n",
    "x = int(raw_input(\"Please enter an integer: \"))\n",
    "adult(x)"
   ]
  },
  {
   "cell_type": "markdown",
   "metadata": {
    "collapsed": true
   },
   "source": [
    "### Function Scope"
   ]
  },
  {
   "cell_type": "code",
   "execution_count": 43,
   "metadata": {
    "collapsed": false
   },
   "outputs": [
    {
     "name": "stdout",
     "output_type": "stream",
     "text": [
      "can vote\n",
      "22\n"
     ]
    }
   ],
   "source": [
    "# Python can work for itself the scope of variables\n",
    "b=22\n",
    "adult(18)\n",
    "print(b)"
   ]
  },
  {
   "cell_type": "code",
   "execution_count": 44,
   "metadata": {
    "collapsed": false
   },
   "outputs": [
    {
     "name": "stdout",
     "output_type": "stream",
     "text": [
      "5\n"
     ]
    }
   ],
   "source": [
    "# can also explicitly declare global\n",
    "b=3\n",
    "def somefunc():\n",
    "    global b\n",
    "    b=5\n",
    "somefunc()\n",
    "print(b)"
   ]
  },
  {
   "cell_type": "code",
   "execution_count": 5,
   "metadata": {
    "collapsed": false
   },
   "outputs": [
    {
     "name": "stdout",
     "output_type": "stream",
     "text": [
      "Do you really want to quit?n\n"
     ]
    },
    {
     "data": {
      "text/plain": [
       "False"
      ]
     },
     "execution_count": 5,
     "metadata": {},
     "output_type": "execute_result"
    }
   ],
   "source": [
    "'''\n",
    "The most useful form is to specify a default value for one or more arguments. \n",
    "This creates a function that can be called with fewer arguments than it is defined to allow. \n",
    "For example:\n",
    "'''\n",
    "def ask_ok(prompt, retries=4, complaint='Yes or no, please!'):\n",
    "    while True:\n",
    "        ok = raw_input(prompt)\n",
    "        if ok in ('y', 'ye', 'yes'):\n",
    "            return True\n",
    "        if ok in ('n', 'no', 'nop', 'nope'):\n",
    "            return False\n",
    "        retries = retries - 1\n",
    "        if retries < 0:\n",
    "            raise IOError('refuse user')\n",
    "        print complaint\n",
    "ask_ok(\"Do you really want to quit?\")"
   ]
  },
  {
   "cell_type": "code",
   "execution_count": 34,
   "metadata": {
    "collapsed": false
   },
   "outputs": [
    {
     "name": "stdout",
     "output_type": "stream",
     "text": [
      "[1]\n",
      "[1, 2]\n",
      "[1, 2, 3]\n"
     ]
    }
   ],
   "source": [
    "# The default value is evaluated only once.\n",
    "def f(a, L=[]):\n",
    "    L.append(a)\n",
    "    return L\n",
    "\n",
    "print(f(1))\n",
    "print(f(2))\n",
    "print(f(3))"
   ]
  },
  {
   "cell_type": "code",
   "execution_count": 5,
   "metadata": {
    "collapsed": false
   },
   "outputs": [
    {
     "name": "stdout",
     "output_type": "stream",
     "text": [
      "[1]\n",
      "[2]\n",
      "[3]\n"
     ]
    }
   ],
   "source": [
    "# However, phrased in this way, it will stop \n",
    "def f(a, L=None):\n",
    "    if L is None:\n",
    "        L = []\n",
    "    L.append(a)\n",
    "    return L\n",
    "print(f(1))\n",
    "print(f(2))\n",
    "print(f(3))"
   ]
  },
  {
   "cell_type": "markdown",
   "metadata": {
    "collapsed": false
   },
   "source": [
    "### Key arguments"
   ]
  },
  {
   "cell_type": "code",
   "execution_count": 7,
   "metadata": {
    "collapsed": false
   },
   "outputs": [
    {
     "name": "stdout",
     "output_type": "stream",
     "text": [
      "\n"
     ]
    }
   ],
   "source": [
    "# In a function you can pass arguments in the right order or any order as long as the argument name is given:\n",
    "def parrot(voltage, state='a stiff', action='voom', type='Norwegian Blue'):\n",
    "    print(\"-- This parrot wouldn't \"+ action)\n",
    "    print(\"if you put \" + voltage + \" volts through it.\")\n",
    "    print(\"-- Lovely plumage, the \" + type)\n",
    "    print(\"-- It's\" + state + \"!\")\n",
    "'''\n",
    "parrot()                     # required argument missing\n",
    "parrot(voltage=5.0, 'dead')  # non-keyword argument after a keyword argument\n",
    "parrot(110, voltage=220)     # duplicate value for the same argument\n",
    "parrot(actor='John Cleese')  # unknown keyword argument\n",
    "'''\n",
    "print(\"\")"
   ]
  },
  {
   "cell_type": "code",
   "execution_count": 4,
   "metadata": {
    "collapsed": false
   },
   "outputs": [
    {
     "name": "stdout",
     "output_type": "stream",
     "text": [
      "-- Do you have any Limburger ?\n",
      "-- I'm sorry, we're all out of Limburger\n",
      "It's very runny, sir.\n",
      "It's really very, VERY runny, sir.\n",
      "----------------------------------------\n",
      "client : John Cleese\n",
      "shopkeeper : Michael Palin\n",
      "sketch : Cheese Shop Sketch\n"
     ]
    }
   ],
   "source": [
    "# Can also give dictionaries as arguments, denoted by **name. Arugments of type *name are tuples.\n",
    "def cheeseshop(kind, *arguments, **keywords):\n",
    "    print \"-- Do you have any\", kind, \"?\"\n",
    "    print \"-- I'm sorry, we're all out of\", kind\n",
    "    for arg in arguments:\n",
    "        print arg\n",
    "    print \"-\" * 40\n",
    "    keys = sorted(keywords.keys())\n",
    "    for kw in keys:\n",
    "        print kw, \":\", keywords[kw]\n",
    "\n",
    "#It could be called like this:\n",
    "\n",
    "cheeseshop(\"Limburger\", \"It's very runny, sir.\",\n",
    "           \"It's really very, VERY runny, sir.\",\n",
    "           shopkeeper='Michael Palin',\n",
    "           client=\"John Cleese\",\n",
    "           sketch=\"Cheese Shop Sketch\")\n",
    "\n",
    "#and of course it would print:\n",
    "\n",
    "\n",
    "\n"
   ]
  },
  {
   "cell_type": "markdown",
   "metadata": {},
   "source": [
    "### Lambda expressions"
   ]
  },
  {
   "cell_type": "code",
   "execution_count": 10,
   "metadata": {
    "collapsed": false
   },
   "outputs": [
    {
     "name": "stdout",
     "output_type": "stream",
     "text": [
      "42\n",
      "43\n",
      "[(0, 'zero'), (1, 'one'), (2, 'two'), (3, 'three'), (4, 'four')]\n",
      "[(4, 'four'), (1, 'one'), (3, 'three'), (2, 'two'), (0, 'zero')]\n"
     ]
    }
   ],
   "source": [
    "# Lambda expressions \n",
    "# These allow handling functions as variables.\n",
    "def make_incrementor(n):\n",
    "    return lambda x: x + n\n",
    "f = make_incrementor(42)\n",
    "print(f(0))\n",
    "print(f(1))\n",
    "\n",
    "# The above example uses a lambda expression to return a function. \n",
    "# Another use is to pass a small function as an argument:\n",
    "\n",
    "pairs = [(1, 'one'), (2, 'two'), (0,'zero'), (3, 'three'), (4, 'four')]\n",
    "pairs.sort()\n",
    "print(pairs)\n",
    "pairs.sort(key=lambda pair: pair[1])\n",
    "print(pairs)\n",
    "\n",
    "\n"
   ]
  },
  {
   "cell_type": "markdown",
   "metadata": {},
   "source": [
    "###  Documentation strings and Coding style"
   ]
  },
  {
   "cell_type": "code",
   "execution_count": 12,
   "metadata": {
    "collapsed": false
   },
   "outputs": [
    {
     "name": "stdout",
     "output_type": "stream",
     "text": [
      "\n"
     ]
    }
   ],
   "source": [
    "'''\n",
    "The first line should always be a short, concise summary of the object’s purpose. \n",
    "For brevity, it should not explicitly state the object’s name or type, since these are available by other means \n",
    "(except if the name happens to be a verb describing a function’s operation). \n",
    "This line should begin with a capital letter and end with a period.\n",
    "If there are more lines in the documentation string, the second line should be blank, visually separating \n",
    "the summary from the rest of the description. The following lines should be one or more paragraphs describing \n",
    "the object’s calling conventions, its side effects, etc.\n",
    "\n",
    "\n",
    "\n",
    "    Use 4-space indentation, and no tabs.\n",
    "\n",
    "    4 spaces are a good compromise between small indentation (allows greater nesting depth) and \n",
    "    large indentation (easier to read). Tabs introduce confusion, and are best left out.\n",
    "\n",
    "    Wrap lines so that they don’t exceed 79 characters.\n",
    "\n",
    "    This helps users with small displays and makes it possible to have several code files side-by-side on \n",
    "    larger displays.\n",
    "\n",
    "    Use blank lines to separate functions and classes, and larger blocks of code inside functions.\n",
    "\n",
    "    When possible, put comments on a line of their own.\n",
    "\n",
    "    Use docstrings.\n",
    "\n",
    "    Use spaces around operators and after commas, but not directly inside bracketing constructs: \n",
    "    a = f(1, 2) + g(3, 4).\n",
    "\n",
    "    Name your classes and functions consistently; the convention is to use CamelCase for classes and \n",
    "    lower_case_with_underscores for functions and methods. \n",
    "    Always use self as the name for the first method argument \n",
    "    (see A First Look at Classes for more on classes and methods).\n",
    "\n",
    "    Don’t use fancy encodings if your code is meant to be used in international environments. \n",
    "    Plain ASCII works best in any case.\n",
    "\n",
    "'''\n",
    "print(\"\")"
   ]
  },
  {
   "cell_type": "markdown",
   "metadata": {},
   "source": [
    "### Python for loop"
   ]
  },
  {
   "cell_type": "code",
   "execution_count": 7,
   "metadata": {
    "collapsed": false
   },
   "outputs": [
    {
     "name": "stdout",
     "output_type": "stream",
     "text": [
      "1\n",
      "2\n",
      "3\n",
      "['a', 'cat', 'sat', 'on', 'the', 'mat']\n",
      "['a', 'cat', 'sat', 'on', 'the', 'mat']\n",
      "['on', 'a']\n"
     ]
    }
   ],
   "source": [
    "# Indentation is important. Range up to the number after which the loop finishes\n",
    "for a in range(1,4):\n",
    "   print(a)\n",
    "# If you need to modify the sequence you are iterating over while inside the loop \n",
    "#(for example to duplicate selected items), it is recommended that you first make a copy. \n",
    "# Iterating over a sequence does not implicitly make a copy.\n",
    "words=[\"a\",\"cat\",\"sat\",\"on\",\"the\",\"mat\"]\n",
    "cwords=[]\n",
    "print(words)\n",
    "for w in words[:]:  # Loop over a slice copy of the entire list.\n",
    " if len(w) < 3:\n",
    "    cwords.insert(0, w)\n",
    "print(words)\n",
    "print(cwords)"
   ]
  },
  {
   "cell_type": "code",
   "execution_count": 18,
   "metadata": {
    "collapsed": false
   },
   "outputs": [
    {
     "name": "stdout",
     "output_type": "stream",
     "text": [
      "2 is a prime number\n",
      "n is: 3 and x is: 2\n",
      "n%x is: 1\n",
      "3 is a prime number\n",
      "n is: 4 and x is: 2\n",
      "n%x is: 0\n",
      "4 equals 2 * 2\n",
      "n is: 5 and x is: 2\n",
      "n%x is: 1\n",
      "n is: 5 and x is: 3\n",
      "n%x is: 2\n",
      "n is: 5 and x is: 4\n",
      "n%x is: 1\n",
      "5 is a prime number\n",
      "n is: 6 and x is: 2\n",
      "n%x is: 0\n",
      "6 equals 2 * 3\n",
      "n is: 7 and x is: 2\n",
      "n%x is: 1\n",
      "n is: 7 and x is: 3\n",
      "n%x is: 1\n",
      "n is: 7 and x is: 4\n",
      "n%x is: 3\n",
      "n is: 7 and x is: 5\n",
      "n%x is: 2\n",
      "n is: 7 and x is: 6\n",
      "n%x is: 1\n",
      "7 is a prime number\n",
      "n is: 8 and x is: 2\n",
      "n%x is: 0\n",
      "8 equals 2 * 4\n",
      "n is: 9 and x is: 2\n",
      "n%x is: 1\n",
      "n is: 9 and x is: 3\n",
      "n%x is: 0\n",
      "9 equals 3 * 3\n"
     ]
    }
   ],
   "source": [
    "'''\n",
    "Loop statements may have an else clause; it is executed when the loop terminates through exhaustion of the list \n",
    "(with for) or when the condition becomes false (with while), but not when the loop is terminated by a break statement. \n",
    "This is exemplified by the following loop, which searches for prime numbers:\n",
    "'''\n",
    "for n in range(2, 10):\n",
    "  for x in range(2, n):\n",
    "    print(\"n is: \"+ str(n)+\" and x is: \" +str(x))\n",
    "    print(\"n%x is: \" +str(n%x))\n",
    "    if n % x == 0:\n",
    "     print n, 'equals', x, '*', n/x\n",
    "     break\n",
    "  else:\n",
    "   # loop fell through without finding a factor\n",
    "   print n, 'is a prime number'"
   ]
  },
  {
   "cell_type": "code",
   "execution_count": 19,
   "metadata": {
    "collapsed": false
   },
   "outputs": [
    {
     "name": "stdout",
     "output_type": "stream",
     "text": [
      "Found an even number 2\n",
      "Found a number 3\n",
      "Found an even number 4\n",
      "Found a number 5\n",
      "Found an even number 6\n",
      "Found a number 7\n",
      "Found an even number 8\n",
      "Found a number 9\n"
     ]
    }
   ],
   "source": [
    "#The continue statement continues with the next iteration of the loop:\n",
    "for num in range(2, 10):\n",
    "  if num % 2 == 0:\n",
    "      print \"Found an even number\", num\n",
    "      continue\n",
    "  print \"Found a number\", num"
   ]
  },
  {
   "cell_type": "markdown",
   "metadata": {},
   "source": [
    "### Range"
   ]
  },
  {
   "cell_type": "code",
   "execution_count": 14,
   "metadata": {
    "collapsed": false
   },
   "outputs": [
    {
     "name": "stdout",
     "output_type": "stream",
     "text": [
      "[0, 1, 2, 3, 4, 5, 6, 7, 8, 9]\n",
      "[]\n",
      "[5, 6, 7, 8, 9]\n",
      "[5, 8]\n",
      "[-10, -40, -70]\n",
      "0 Mary\n",
      "1 had\n",
      "2 a\n",
      "3 little\n",
      "4 lamb\n"
     ]
    }
   ],
   "source": [
    "print(range(10))\n",
    "print(range(2,2))\n",
    "print(range(5,10))\n",
    "print(range(5,10,3))\n",
    "print(range(-10,-100,-30))\n",
    "# To iterate over the indices of a sequence, you can combine range() and len() as follows:\n",
    "a = ['Mary', 'had', 'a', 'little', 'lamb']\n",
    "for i in range(len(a)):\n",
    "   print i, a[i]"
   ]
  },
  {
   "cell_type": "markdown",
   "metadata": {},
   "source": [
    "### While loop"
   ]
  },
  {
   "cell_type": "code",
   "execution_count": 46,
   "metadata": {
    "collapsed": false
   },
   "outputs": [
    {
     "name": "stdout",
     "output_type": "stream",
     "text": [
      "1\n",
      "2\n",
      "3\n",
      "4\n",
      "5\n",
      "6\n",
      "7\n",
      "8\n",
      "9\n",
      "10\n"
     ]
    }
   ],
   "source": [
    "# Can take condition that will be always satisfied like 1==1. No do-while loop\n",
    "a=1\n",
    "while a < 11:\n",
    "    print(a)\n",
    "    a+=1"
   ]
  },
  {
   "cell_type": "markdown",
   "metadata": {},
   "source": [
    "### Strings"
   ]
  },
  {
   "cell_type": "code",
   "execution_count": 11,
   "metadata": {
    "collapsed": false
   },
   "outputs": [
    {
     "name": "stdout",
     "output_type": "stream",
     "text": [
      "C:\\some\\name\n",
      "<type 'str'>\n"
     ]
    }
   ],
   "source": [
    "# there is a type() function that can give you the type of a variable. Strings can be any length.\n",
    "# Strings can contain any character.\n",
    "# Use backslash to escape quotes and special characters.\n",
    "# Python strings cannot be changed — they are immutable. \n",
    "# Therefore, assigning to an indexed position in the string results in an error.\n",
    "# String literals can span multiple lines. One way is using triple-quotes: \"\"\"...\"\"\" or '''...'''\n",
    "# If you don’t want characters prefaced by \\ to be interpreted as special characters, \n",
    "# you can use raw strings by adding an r before the first quote:\n",
    "print r'C:\\some\\name'  # note the r before the quote\n",
    "mystring=\"hello\"\n",
    "print(type(mystring))"
   ]
  },
  {
   "cell_type": "code",
   "execution_count": 48,
   "metadata": {
    "collapsed": false
   },
   "outputs": [
    {
     "name": "stdout",
     "output_type": "stream",
     "text": [
      "mormolis\n",
      "number of o in 'mormolis' is 2\n",
      "the first position of o in 'mormolis' is 1\n",
      "convert mormolis to lowercase MORMOLIS\n",
      "murmulis\n",
      "mormolis\n"
     ]
    }
   ],
   "source": [
    "# Useful functions to use with strings\n",
    "stringVar=\"mormolis\"\n",
    "print(stringVar)\n",
    "print(\"number of o in '\" +stringVar+  \"' is \" + str(stringVar.count('o')))\n",
    "print(\"the first position of o in '\" +stringVar+  \"' is \" + str(stringVar.find('o')))\n",
    "print(\"convert \" +stringVar+  \" to lowercase \" + str(stringVar.upper()))\n",
    "print(stringVar.replace('o', 'u')) #replaces all occurrences of a with b in the string\n",
    "print(stringVar.strip()) #removes leading/trailing white space from string "
   ]
  },
  {
   "cell_type": "markdown",
   "metadata": {},
   "source": [
    "### String indices"
   ]
  },
  {
   "cell_type": "code",
   "execution_count": 23,
   "metadata": {
    "collapsed": false
   },
   "outputs": [
    {
     "name": "stdout",
     "output_type": "stream",
     "text": [
      "tr\n",
      "strin\n",
      "The first char is: P\n",
      "The length of the string Python is: 6\n",
      "The character 6 before the end is: P\n"
     ]
    }
   ],
   "source": [
    "a = \"string\"\n",
    "print (a[1:3]) # string is indexed. First char of string starts at 0.\n",
    "print (a[:-1]) # print string from start up to one before last char.\n",
    "word=\"Python\"\n",
    "length=len(word)\n",
    "print(\"The first char is: \" + word[0])\n",
    "print(\"The length of the string \" + word + \" is: \" + str(length))\n",
    "print(\"The character \" + str(length) + \" before the end is: \" + word[-length])"
   ]
  },
  {
   "cell_type": "code",
   "execution_count": 27,
   "metadata": {
    "collapsed": false
   },
   "outputs": [
    {
     "name": "stdout",
     "output_type": "stream",
     "text": [
      "\n"
     ]
    }
   ],
   "source": [
    "'''\n",
    " +---+---+---+---+---+---+\n",
    " | P | y | t | h | o | n |\n",
    " +---+---+---+---+---+---+\n",
    " 0   1   2   3   4   5   6\n",
    "-6  -5  -4  -3  -2  -1\n",
    "'''\n",
    "print(\"\")"
   ]
  },
  {
   "cell_type": "markdown",
   "metadata": {},
   "source": [
    "### Lists"
   ]
  },
  {
   "cell_type": "code",
   "execution_count": 39,
   "metadata": {
    "collapsed": false
   },
   "outputs": [
    {
     "name": "stdout",
     "output_type": "stream",
     "text": [
      "1\n",
      "2\n",
      "3\n",
      "4\n",
      "5\n",
      "6\n",
      "7\n",
      "8\n",
      "[1, 2, 3, 4, 5, 6]\n",
      "['hello', 'world']\n",
      "[1, 8, 27, 65, 125]\n",
      "['a', 'B', 'C', 'D', 'd', 'e']\n",
      "x is [['a', 'B', 'C', 'D', 'd', 'e'], [1, 2, 3]]\n",
      "['a', 'B', 'C', 'D', 'd', 'e']\n",
      "B\n"
     ]
    }
   ],
   "source": [
    "# No arrays. Just Python lists. They are dynamic and you can store multiple variables in them.\n",
    "sampleList = [1,2,3,4,5,6,7,8]\n",
    "for a in sampleList:\n",
    "   print (a)\n",
    "print(sampleList[:-2])\n",
    "sampleList2=[\"hello\",\"world\",\"!\"]\n",
    "print(sampleList2[:-1])\n",
    "# Unlike strings, which are immutable, lists are a mutable type, i.e. it is possible to change their content:\n",
    "cubes = [1, 8, 27, 65, 125]  # something's wrong here\n",
    "print cubes\n",
    "4 ** 3  # the cube of 4 is 64, not 65!\n",
    "cubes[3] = 64  # replace the wrong value\n",
    "cubes\n",
    "# It is possible to slice lists and also replace slices\n",
    "letters=[\"a\",\"b\",\"c\",\"d\",\"e\"]\n",
    "letters[1:3]=[\"B\",\"C\",\"D\"]\n",
    "print letters\n",
    "# It is possible to nest lists (create lists containing other lists), for example:\n",
    "n = [1, 2, 3]\n",
    "x = [letters, n]\n",
    "print(\"x is \" + str(x))\n",
    "print x[0]\n",
    "print x[0][1]\n",
    "\n"
   ]
  },
  {
   "cell_type": "markdown",
   "metadata": {},
   "source": [
    "### Common list methods"
   ]
  },
  {
   "cell_type": "code",
   "execution_count": 51,
   "metadata": {
    "collapsed": false
   },
   "outputs": [
    {
     "name": "stdout",
     "output_type": "stream",
     "text": [
      "['hello', 'world', '!']\n",
      "1\n",
      "5\n",
      "[1, 2, 3, 4, 5, 6, 7, 5, 8]\n",
      "Removing last element of list :8\n",
      "[1, 2, 3, 4, 5, 6, 7, 5]\n",
      "[1, 2, 3, 4, 6, 7, 5]\n",
      "[5, 7, 6, 4, 3, 2, 1]\n",
      "[1, 2, 3, 4, 5, 6, 7]\n"
     ]
    }
   ],
   "source": [
    "sampleList2=[\"hello\",\"world\"]\n",
    "sampleList2.append(\"!\") #appends element to end of the list. Modifies the original variable.\n",
    "print(sampleList2)\n",
    "print(sampleList2.count('!')) #counts the number of occurrences of '!' in the list\n",
    "print(sampleList.index(6)) # returns the index of '6' in the list\n",
    "sampleList.insert(7,5) #inserts '5' at location '7'\n",
    "print(sampleList)\n",
    "print(\"Removing last element of list :\"+ str(sampleList.pop())) # returns last element then removes it from the list\n",
    "print(sampleList)\n",
    "sampleList.remove(5) # finds and removes first 'x' from list\n",
    "print(sampleList)\n",
    "sampleList.reverse() # reverses the elements in the list\n",
    "print(sampleList)\n",
    "sampleList.sort() # sorts the list alphabetically in ascending order, or numerical in ascending order\n",
    "print(sampleList)\n"
   ]
  },
  {
   "cell_type": "markdown",
   "metadata": {},
   "source": [
    "### Tuples"
   ]
  },
  {
   "cell_type": "code",
   "execution_count": 52,
   "metadata": {
    "collapsed": false
   },
   "outputs": [
    {
     "name": "stdout",
     "output_type": "stream",
     "text": [
      "Added 4 to myList :[1, 2, 3, 4]\n",
      "Now I converted tuple to a list I can append to the listified tuple\n",
      "[1, 2, 3, 4]\n"
     ]
    }
   ],
   "source": [
    "# Tuples are like lists but they cannot be modified. Tuples are meant to be immutable. \n",
    "# If you want to change a variable, use a list rather than a tuple. Can cast a list into a tuple.\n",
    "myList=[1,2,3]\n",
    "myTuple=(1,2,3)\n",
    "myList.append(4)\n",
    "print(\"Added 4 to myList :\"+ str(myList))\n",
    "nList=list(myTuple)\n",
    "nList.append(4)\n",
    "print(\"Now I converted tuple to a list I can append to the listified tuple\")\n",
    "print(nList)"
   ]
  },
  {
   "cell_type": "markdown",
   "metadata": {},
   "source": [
    "### Python dictionaries"
   ]
  },
  {
   "cell_type": "code",
   "execution_count": 53,
   "metadata": {
    "collapsed": false
   },
   "outputs": [
    {
     "name": "stdout",
     "output_type": "stream",
     "text": [
      "Maria\n",
      "Liakata\n"
     ]
    }
   ],
   "source": [
    "# Similar to perl hash. But it complains if you try to access items that aren't there.\n",
    "d={}\n",
    "d[\"First\"]=\"Maria\"\n",
    "d[\"Last\"]=\"Liakata\"\n",
    "print(d[\"First\"])\n",
    "print(d[\"Last\"])"
   ]
  },
  {
   "cell_type": "code",
   "execution_count": 54,
   "metadata": {
    "collapsed": false
   },
   "outputs": [
    {
     "name": "stdout",
     "output_type": "stream",
     "text": [
      "{'yetanotherItem': 'banana', 'oneItem': 2, 'anotherItem': 20}\n",
      "('Last', 'Liakata')\n",
      "('First', 'Maria')\n"
     ]
    }
   ],
   "source": [
    "myExample={'oneItem':2,'anotherItem':20,'yetanotherItem':'banana'}\n",
    "print(myExample) # this is a dictionary\n",
    "for name in d:\n",
    "  # print(name)\n",
    "  #print(d[name])\n",
    "  print(name,d[name]) # this is a list"
   ]
  },
  {
   "cell_type": "markdown",
   "metadata": {},
   "source": [
    "### Formatting"
   ]
  },
  {
   "cell_type": "code",
   "execution_count": 55,
   "metadata": {
    "collapsed": false
   },
   "outputs": [
    {
     "name": "stdout",
     "output_type": "stream",
     "text": [
      "The order comes to 23.000000 pounds\n",
      "Pi is 3.141593\n",
      "The first two digits of pi are 3.14\n",
      "abcdefghijklmnopqrst\n"
     ]
    }
   ],
   "source": [
    "print('The order comes to %f pounds' %23 )\n",
    "print('Pi is %f' %3.14159265) # limits floats to 6 decimal places\n",
    "print('The first two digits of pi are %.2f' %3.14159)\n",
    "a =\"abcdefghijklmnopqrstuvwxyz\"\n",
    "print('%.20s' % a) # print the first 20 chars"
   ]
  },
  {
   "cell_type": "markdown",
   "metadata": {
    "collapsed": true
   },
   "source": [
    "###Exceptions"
   ]
  },
  {
   "cell_type": "code",
   "execution_count": 56,
   "metadata": {
    "collapsed": false
   },
   "outputs": [
    {
     "name": "stdout",
     "output_type": "stream",
     "text": [
      "('1', ' is not a number')\n",
      "1\n"
     ]
    }
   ],
   "source": [
    "var1 = '1'\n",
    "try:\n",
    "\n",
    "    var1 = var1 + 1 # since var1 is a string, it cannot be added to the number 1 \n",
    "\n",
    "except:\n",
    "\n",
    "    print(var1, \" is not a number\") #so we execute this\n",
    "\n",
    "print(var1) "
   ]
  },
  {
   "cell_type": "markdown",
   "metadata": {},
   "source": [
    "###Elegant Error Handling"
   ]
  },
  {
   "cell_type": "code",
   "execution_count": 57,
   "metadata": {
    "collapsed": false
   },
   "outputs": [
    {
     "name": "stdout",
     "output_type": "stream",
     "text": [
      "2\n"
     ]
    }
   ],
   "source": [
    "var1 = '1'\n",
    "try:\n",
    "\n",
    "    var2 = var1 + 1 # since var1 is a string, it cannot be added to the number 1 \n",
    "\n",
    "except:\n",
    "\n",
    "    var2 = int(var1) + 1 # the assumption here is that we know before hand that it would be a string or int. \n",
    "                         # This could have been dealt with an \"if\" \"else\". \n",
    "                         # Usually good for file handling and database connections\n",
    "\n",
    "print(var2) "
   ]
  },
  {
   "cell_type": "markdown",
   "metadata": {
    "collapsed": true
   },
   "source": [
    "###File handling"
   ]
  },
  {
   "cell_type": "code",
   "execution_count": 58,
   "metadata": {
    "collapsed": false
   },
   "outputs": [
    {
     "ename": "IOError",
     "evalue": "[Errno 2] No such file or directory: 'test.txt'",
     "output_type": "error",
     "traceback": [
      "\u001b[0;31m---------------------------------------------------------------------------\u001b[0m",
      "\u001b[0;31mIOError\u001b[0m                                   Traceback (most recent call last)",
      "\u001b[0;32m<ipython-input-58-487aed819e6e>\u001b[0m in \u001b[0;36m<module>\u001b[0;34m()\u001b[0m\n\u001b[0;32m----> 1\u001b[0;31m \u001b[0mf\u001b[0m \u001b[0;34m=\u001b[0m \u001b[0mopen\u001b[0m\u001b[0;34m(\u001b[0m\u001b[0;34m\"test.txt\"\u001b[0m\u001b[0;34m,\u001b[0m \u001b[0;34m\"r\"\u001b[0m\u001b[0;34m)\u001b[0m \u001b[0;31m#opens file with name of \"test.txt\"\u001b[0m\u001b[0;34m\u001b[0m\u001b[0m\n\u001b[0m\u001b[1;32m      2\u001b[0m \u001b[0;32mprint\u001b[0m\u001b[0;34m(\u001b[0m\u001b[0mf\u001b[0m\u001b[0;34m.\u001b[0m\u001b[0mread\u001b[0m\u001b[0;34m(\u001b[0m\u001b[0;36m3\u001b[0m\u001b[0;34m)\u001b[0m\u001b[0;34m)\u001b[0m\u001b[0;34m\u001b[0m\u001b[0m\n\u001b[1;32m      3\u001b[0m \u001b[0;32mprint\u001b[0m\u001b[0;34m(\u001b[0m\u001b[0mf\u001b[0m\u001b[0;34m.\u001b[0m\u001b[0mread\u001b[0m\u001b[0;34m(\u001b[0m\u001b[0;34m)\u001b[0m\u001b[0;34m)\u001b[0m \u001b[0;31m# Python carries reading from where it left\u001b[0m\u001b[0;34m\u001b[0m\u001b[0m\n\u001b[1;32m      4\u001b[0m \u001b[0mf\u001b[0m\u001b[0;34m.\u001b[0m\u001b[0mclose\u001b[0m\u001b[0;34m(\u001b[0m\u001b[0;34m)\u001b[0m\u001b[0;34m\u001b[0m\u001b[0m\n",
      "\u001b[0;31mIOError\u001b[0m: [Errno 2] No such file or directory: 'test.txt'"
     ]
    }
   ],
   "source": [
    "f = open(\"test.txt\", \"r\") #opens file with name of \"test.txt\" \n",
    "print(f.read(3))\n",
    "print(f.read()) # Python carries reading from where it left\n",
    "f.close()"
   ]
  },
  {
   "cell_type": "code",
   "execution_count": 59,
   "metadata": {
    "collapsed": false
   },
   "outputs": [
    {
     "ename": "IOError",
     "evalue": "[Errno 2] No such file or directory: 'test.txt'",
     "output_type": "error",
     "traceback": [
      "\u001b[0;31m---------------------------------------------------------------------------\u001b[0m",
      "\u001b[0;31mIOError\u001b[0m                                   Traceback (most recent call last)",
      "\u001b[0;32m<ipython-input-59-4ebf99949857>\u001b[0m in \u001b[0;36m<module>\u001b[0;34m()\u001b[0m\n\u001b[0;32m----> 1\u001b[0;31m \u001b[0mf\u001b[0m \u001b[0;34m=\u001b[0m \u001b[0mopen\u001b[0m\u001b[0;34m(\u001b[0m\u001b[0;34m\"test.txt\"\u001b[0m\u001b[0;34m,\u001b[0m \u001b[0;34m\"r\"\u001b[0m\u001b[0;34m)\u001b[0m \u001b[0;31m#opens file with name of \"test.txt\"\u001b[0m\u001b[0;34m\u001b[0m\u001b[0m\n\u001b[0m\u001b[1;32m      2\u001b[0m \u001b[0;31m#print(f.readline(2)) # gets first 2 chars from the first line\u001b[0m\u001b[0;34m\u001b[0m\u001b[0;34m\u001b[0m\u001b[0m\n\u001b[1;32m      3\u001b[0m \u001b[0;32mprint\u001b[0m\u001b[0;34m(\u001b[0m\u001b[0mf\u001b[0m\u001b[0;34m.\u001b[0m\u001b[0mreadline\u001b[0m\u001b[0;34m(\u001b[0m\u001b[0;34m)\u001b[0m\u001b[0;34m)\u001b[0m\u001b[0;34m\u001b[0m\u001b[0m\n\u001b[1;32m      4\u001b[0m \u001b[0;32mprint\u001b[0m\u001b[0;34m(\u001b[0m\u001b[0mf\u001b[0m\u001b[0;34m.\u001b[0m\u001b[0mreadline\u001b[0m\u001b[0;34m(\u001b[0m\u001b[0;34m)\u001b[0m\u001b[0;34m)\u001b[0m\u001b[0;34m\u001b[0m\u001b[0m\n\u001b[1;32m      5\u001b[0m \u001b[0mf\u001b[0m\u001b[0;34m.\u001b[0m\u001b[0mclose\u001b[0m\u001b[0;34m(\u001b[0m\u001b[0;34m)\u001b[0m\u001b[0;34m\u001b[0m\u001b[0m\n",
      "\u001b[0;31mIOError\u001b[0m: [Errno 2] No such file or directory: 'test.txt'"
     ]
    }
   ],
   "source": [
    "f = open(\"test.txt\", \"r\") #opens file with name of \"test.txt\" \n",
    "#print(f.readline(2)) # gets first 2 chars from the first line\n",
    "print(f.readline())\n",
    "print(f.readline())\n",
    "f.close()"
   ]
  },
  {
   "cell_type": "code",
   "execution_count": 60,
   "metadata": {
    "collapsed": false
   },
   "outputs": [
    {
     "name": "stdout",
     "output_type": "stream",
     "text": [
      "File is not here. Trying a different path\n",
      "['I am a test file.\\n', 'Maybe someday, he will promote me to a real file.\\n', 'Man, I long to be a real file\\n', 'and hang out with all my new real file friends.\\n']\n"
     ]
    }
   ],
   "source": [
    "filepath=\"/Users/marialiakataAir/github/CUSP/esence/explore-02-maria\"\n",
    "try:\n",
    "    f = open(filepath+\"/test.txt\",\"r\") #opens file with name of \"test.txt\"\n",
    "except:\n",
    "    print(\"File is not here. Trying a different path\")\n",
    "    newpath=filepath+ \"/testfiles\"\n",
    "    f = open(newpath+\"/test.txt\",\"r\") #opens file with name of \"test.txt\"\n",
    "# here first we should ideally check we have an object of class file that is open    \n",
    "myList = []\n",
    "for line in f:\n",
    "\n",
    "    myList.append(line)\n",
    "\n",
    "print(myList) \n",
    "f.close()"
   ]
  },
  {
   "cell_type": "code",
   "execution_count": 61,
   "metadata": {
    "collapsed": false
   },
   "outputs": [
    {
     "name": "stdout",
     "output_type": "stream",
     "text": [
      "<closed file '/Users/marialiakataAir/github/CUSP/esence/explore-02-maria/testfiles/test.txt', mode 'r' at 0x103735810>\n"
     ]
    }
   ],
   "source": [
    "print(f)"
   ]
  },
  {
   "cell_type": "code",
   "execution_count": 62,
   "metadata": {
    "collapsed": false
   },
   "outputs": [
    {
     "name": "stdout",
     "output_type": "stream",
     "text": [
      "/Users/marialiakataAir/github/CUSP/esence/explore-02-maria\n"
     ]
    }
   ],
   "source": [
    "print(filepath)"
   ]
  },
  {
   "cell_type": "code",
   "execution_count": 63,
   "metadata": {
    "collapsed": false
   },
   "outputs": [
    {
     "name": "stdout",
     "output_type": "stream",
     "text": [
      "/Users/marialiakataAir/github/CUSP/esence/explore-02-maria/testfiles\n"
     ]
    }
   ],
   "source": [
    "print(newpath)"
   ]
  },
  {
   "cell_type": "markdown",
   "metadata": {},
   "source": [
    "### Writing to a file"
   ]
  },
  {
   "cell_type": "code",
   "execution_count": 64,
   "metadata": {
    "collapsed": false
   },
   "outputs": [
    {
     "name": "stdout",
     "output_type": "stream",
     "text": [
      "hello!\n",
      "The file is being rewritten.\n",
      "\n"
     ]
    }
   ],
   "source": [
    "f=open(newpath+\"testfile.txt\",\"w\") # Ooups the file has now been nukes is opened for writing as a blank slate\n",
    "f.write(\"hello!\\n\")\n",
    "f.write(\"The file is being rewritten.\\n\")\n",
    "f.close()\n",
    "# If you open the file using 'with' you don't need to remember to close the file\n",
    "with open(newpath+\"testfile.txt\",\"r\") as f:\n",
    "    print(f.read())"
   ]
  },
  {
   "cell_type": "code",
   "execution_count": 65,
   "metadata": {
    "collapsed": false
   },
   "outputs": [
    {
     "name": "stdout",
     "output_type": "stream",
     "text": [
      "hello!\n",
      "The file is being rewritten.\n",
      "This is still a puny dummy textfile.\n",
      "\n"
     ]
    }
   ],
   "source": [
    "f=open(newpath+\"testfile.txt\",\"a\")# Append to the file\n",
    "f.write(\"This is still a puny dummy textfile.\\n\")\n",
    "f.close()\n",
    "f=open(newpath+\"testfile.txt\",\"r\")# Now read again the file\n",
    "print(f.read())\n",
    "f.close()\n"
   ]
  },
  {
   "cell_type": "markdown",
   "metadata": {},
   "source": [
    "### Classes"
   ]
  },
  {
   "cell_type": "code",
   "execution_count": 21,
   "metadata": {
    "collapsed": false
   },
   "outputs": [
    {
     "name": "stdout",
     "output_type": "stream",
     "text": [
      "\n"
     ]
    }
   ],
   "source": [
    "#ClassOne.py\n",
    "# Normally I would have from ClassOne import * to import all classes in a file. Or I could just import Calculator.\n",
    "# Assume the input is in a file called ClassOne.py\n",
    "'''class Calculator(object):\n",
    "\n",
    "    #define class to simulate a simple calculator\n",
    "    def __init__ (self):\n",
    "\n",
    "        #start with zero\n",
    "        self.total = 0\n",
    "\n",
    "    def add(self, amount):\n",
    "\n",
    "        #add number to current\n",
    "        self.total += amount\n",
    "\n",
    "    def getTotal(self):\n",
    "\n",
    "        return self.total\n",
    "        \n",
    "    class MyEmptyClass: # here we just define an empty class. Like a placeholder\n",
    "       pass\n",
    "'''\n",
    "print(\"\")"
   ]
  },
  {
   "cell_type": "code",
   "execution_count": 5,
   "metadata": {
    "collapsed": false
   },
   "outputs": [
    {
     "name": "stdout",
     "output_type": "stream",
     "text": [
      "3\n",
      "30\n"
     ]
    }
   ],
   "source": [
    "from ClassOne import * # how do we tell it to find classes that are not in the working directory? Need to remedy this\n",
    "calc1=Calculator()\n",
    "calc1.add(3)\n",
    "calc2=Calculator()\n",
    "calc2.add(30)\n",
    "print(calc1.getTotal())\n",
    "print(calc2.getTotal())"
   ]
  },
  {
   "cell_type": "code",
   "execution_count": 6,
   "metadata": {
    "collapsed": true
   },
   "outputs": [],
   "source": [
    "# Scored 96% in the Python Quiz. Got the question on string.replace('a','b') wrong\n",
    "# Explore other tutorials.\n",
    "# Should continue finding out more about packages, how to create them and different libraries for Python."
   ]
  },
  {
   "cell_type": "markdown",
   "metadata": {},
   "source": [
    "### Fibonacci sequence"
   ]
  },
  {
   "cell_type": "code",
   "execution_count": 22,
   "metadata": {
    "collapsed": false
   },
   "outputs": [
    {
     "name": "stdout",
     "output_type": "stream",
     "text": [
      "1 1 2 3 5 8 13 21 34 55 89\n"
     ]
    }
   ],
   "source": [
    "# Fibonacci series:\n",
    "# the sum of two elements defines the next\n",
    "a, b = 0, 1\n",
    "while b < 100:\n",
    "    print b, # adding , after b prevents newlines\n",
    "    a, b = b, a+b"
   ]
  },
  {
   "cell_type": "code",
   "execution_count": 27,
   "metadata": {
    "collapsed": false
   },
   "outputs": [
    {
     "data": {
      "text/plain": [
       "[1, 1, 2, 3, 5, 8, 13, 21, 34, 55, 89]"
      ]
     },
     "execution_count": 27,
     "metadata": {},
     "output_type": "execute_result"
    }
   ],
   "source": [
    "# Fibonacci function:\n",
    "def Fib(n):\n",
    "  '''Return the Fibonacci sequence up to n.''' # This is a docstring\n",
    "  a, b = 0, 1\n",
    "  F=[]\n",
    "  while b < n:\n",
    "    a, b = b, a+b\n",
    "    F.append(a)\n",
    "  return(F)  \n",
    "Fib(100)"
   ]
  },
  {
   "cell_type": "code",
   "execution_count": null,
   "metadata": {
    "collapsed": true
   },
   "outputs": [],
   "source": []
  }
 ],
 "metadata": {
  "anaconda-cloud": {},
  "kernelspec": {
   "display_name": "Python [default]",
   "language": "python",
   "name": "python3"
  },
  "language_info": {
   "codemirror_mode": {
    "name": "ipython",
    "version": 3
   },
   "file_extension": ".py",
   "mimetype": "text/x-python",
   "name": "python",
   "nbconvert_exporter": "python",
   "pygments_lexer": "ipython3",
   "version": "3.5.2"
  }
 },
 "nbformat": 4,
 "nbformat_minor": 0
}
